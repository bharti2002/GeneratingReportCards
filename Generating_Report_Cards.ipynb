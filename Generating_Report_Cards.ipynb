{
  "nbformat": 4,
  "nbformat_minor": 0,
  "metadata": {
    "colab": {
      "provenance": []
    },
    "kernelspec": {
      "name": "python3",
      "display_name": "Python 3"
    },
    "language_info": {
      "name": "python"
    }
  },
  "cells": [
    {
      "cell_type": "markdown",
      "source": [
        "# **Install Libraries**"
      ],
      "metadata": {
        "id": "RdJhEom--Kgj"
      }
    },
    {
      "cell_type": "code",
      "source": [
        "!pip install reportlab\n"
      ],
      "metadata": {
        "colab": {
          "base_uri": "https://localhost:8080/"
        },
        "id": "KyCL5h4wfD5c",
        "outputId": "31caab66-ee98-40e0-fe6c-88fcd3716f7c"
      },
      "execution_count": 13,
      "outputs": [
        {
          "output_type": "stream",
          "name": "stdout",
          "text": [
            "Requirement already satisfied: reportlab in /usr/local/lib/python3.11/dist-packages (4.2.5)\n",
            "Requirement already satisfied: pillow>=9.0.0 in /usr/local/lib/python3.11/dist-packages (from reportlab) (11.1.0)\n",
            "Requirement already satisfied: chardet in /usr/local/lib/python3.11/dist-packages (from reportlab) (5.2.0)\n"
          ]
        }
      ]
    },
    {
      "cell_type": "markdown",
      "source": [
        "# **Pandas**\n",
        "Used to load and manipulate the Excel file data.\n",
        "\n",
        "# **For Reportlab Libraries**\n",
        "**Purpose:** Imports modules from the reportlab library for generating PDFs:\n",
        "**SimpleDocTemplate:** Defines the PDF document layout.\n",
        "**Table, TableStyle**: Used to create tables and style them.\n",
        "**Paragraph, Spacer:** For adding styled text and spacing.\n",
        "**letter:** Defines the page size as a standard letter format."
      ],
      "metadata": {
        "id": "kBfb4CDt-XtH"
      }
    },
    {
      "cell_type": "code",
      "execution_count": 14,
      "metadata": {
        "id": "udZHbKwVfAv0"
      },
      "outputs": [],
      "source": [
        "# Cell 1: Import necessary libraries\n",
        "import pandas as pd\n",
        "from reportlab.lib.pagesizes import letter\n",
        "from reportlab.lib import colors\n",
        "from reportlab.platypus import SimpleDocTemplate, Table, TableStyle, Paragraph, Spacer\n",
        "from reportlab.lib.styles import getSampleStyleSheet\n",
        "from IPython.display import display, FileLink"
      ]
    },
    {
      "cell_type": "markdown",
      "source": [
        "# **For Importing Excel File**\n",
        "[student_scores.xlsx](https://docs.google.com/spreadsheets/d/1eVTtC2ORY23De5E3gIVlceVYdQaDvAfF/edit?usp=sharing&ouid=107535427065180470087&rtpof=true&sd=true)"
      ],
      "metadata": {
        "id": "CAP5FOmQkW4d"
      }
    },
    {
      "cell_type": "code",
      "source": [
        "from google.colab import files\n",
        "uploaded = files.upload()\n"
      ],
      "metadata": {
        "colab": {
          "base_uri": "https://localhost:8080/",
          "height": 74
        },
        "id": "Aq5z7s6RfDQM",
        "outputId": "d9b1425f-e5fb-4e81-f04f-8f338aad6643"
      },
      "execution_count": 15,
      "outputs": [
        {
          "output_type": "display_data",
          "data": {
            "text/plain": [
              "<IPython.core.display.HTML object>"
            ],
            "text/html": [
              "\n",
              "     <input type=\"file\" id=\"files-06ea03e4-1cfd-40f0-a649-dcdf2f398353\" name=\"files[]\" multiple disabled\n",
              "        style=\"border:none\" />\n",
              "     <output id=\"result-06ea03e4-1cfd-40f0-a649-dcdf2f398353\">\n",
              "      Upload widget is only available when the cell has been executed in the\n",
              "      current browser session. Please rerun this cell to enable.\n",
              "      </output>\n",
              "      <script>// Copyright 2017 Google LLC\n",
              "//\n",
              "// Licensed under the Apache License, Version 2.0 (the \"License\");\n",
              "// you may not use this file except in compliance with the License.\n",
              "// You may obtain a copy of the License at\n",
              "//\n",
              "//      http://www.apache.org/licenses/LICENSE-2.0\n",
              "//\n",
              "// Unless required by applicable law or agreed to in writing, software\n",
              "// distributed under the License is distributed on an \"AS IS\" BASIS,\n",
              "// WITHOUT WARRANTIES OR CONDITIONS OF ANY KIND, either express or implied.\n",
              "// See the License for the specific language governing permissions and\n",
              "// limitations under the License.\n",
              "\n",
              "/**\n",
              " * @fileoverview Helpers for google.colab Python module.\n",
              " */\n",
              "(function(scope) {\n",
              "function span(text, styleAttributes = {}) {\n",
              "  const element = document.createElement('span');\n",
              "  element.textContent = text;\n",
              "  for (const key of Object.keys(styleAttributes)) {\n",
              "    element.style[key] = styleAttributes[key];\n",
              "  }\n",
              "  return element;\n",
              "}\n",
              "\n",
              "// Max number of bytes which will be uploaded at a time.\n",
              "const MAX_PAYLOAD_SIZE = 100 * 1024;\n",
              "\n",
              "function _uploadFiles(inputId, outputId) {\n",
              "  const steps = uploadFilesStep(inputId, outputId);\n",
              "  const outputElement = document.getElementById(outputId);\n",
              "  // Cache steps on the outputElement to make it available for the next call\n",
              "  // to uploadFilesContinue from Python.\n",
              "  outputElement.steps = steps;\n",
              "\n",
              "  return _uploadFilesContinue(outputId);\n",
              "}\n",
              "\n",
              "// This is roughly an async generator (not supported in the browser yet),\n",
              "// where there are multiple asynchronous steps and the Python side is going\n",
              "// to poll for completion of each step.\n",
              "// This uses a Promise to block the python side on completion of each step,\n",
              "// then passes the result of the previous step as the input to the next step.\n",
              "function _uploadFilesContinue(outputId) {\n",
              "  const outputElement = document.getElementById(outputId);\n",
              "  const steps = outputElement.steps;\n",
              "\n",
              "  const next = steps.next(outputElement.lastPromiseValue);\n",
              "  return Promise.resolve(next.value.promise).then((value) => {\n",
              "    // Cache the last promise value to make it available to the next\n",
              "    // step of the generator.\n",
              "    outputElement.lastPromiseValue = value;\n",
              "    return next.value.response;\n",
              "  });\n",
              "}\n",
              "\n",
              "/**\n",
              " * Generator function which is called between each async step of the upload\n",
              " * process.\n",
              " * @param {string} inputId Element ID of the input file picker element.\n",
              " * @param {string} outputId Element ID of the output display.\n",
              " * @return {!Iterable<!Object>} Iterable of next steps.\n",
              " */\n",
              "function* uploadFilesStep(inputId, outputId) {\n",
              "  const inputElement = document.getElementById(inputId);\n",
              "  inputElement.disabled = false;\n",
              "\n",
              "  const outputElement = document.getElementById(outputId);\n",
              "  outputElement.innerHTML = '';\n",
              "\n",
              "  const pickedPromise = new Promise((resolve) => {\n",
              "    inputElement.addEventListener('change', (e) => {\n",
              "      resolve(e.target.files);\n",
              "    });\n",
              "  });\n",
              "\n",
              "  const cancel = document.createElement('button');\n",
              "  inputElement.parentElement.appendChild(cancel);\n",
              "  cancel.textContent = 'Cancel upload';\n",
              "  const cancelPromise = new Promise((resolve) => {\n",
              "    cancel.onclick = () => {\n",
              "      resolve(null);\n",
              "    };\n",
              "  });\n",
              "\n",
              "  // Wait for the user to pick the files.\n",
              "  const files = yield {\n",
              "    promise: Promise.race([pickedPromise, cancelPromise]),\n",
              "    response: {\n",
              "      action: 'starting',\n",
              "    }\n",
              "  };\n",
              "\n",
              "  cancel.remove();\n",
              "\n",
              "  // Disable the input element since further picks are not allowed.\n",
              "  inputElement.disabled = true;\n",
              "\n",
              "  if (!files) {\n",
              "    return {\n",
              "      response: {\n",
              "        action: 'complete',\n",
              "      }\n",
              "    };\n",
              "  }\n",
              "\n",
              "  for (const file of files) {\n",
              "    const li = document.createElement('li');\n",
              "    li.append(span(file.name, {fontWeight: 'bold'}));\n",
              "    li.append(span(\n",
              "        `(${file.type || 'n/a'}) - ${file.size} bytes, ` +\n",
              "        `last modified: ${\n",
              "            file.lastModifiedDate ? file.lastModifiedDate.toLocaleDateString() :\n",
              "                                    'n/a'} - `));\n",
              "    const percent = span('0% done');\n",
              "    li.appendChild(percent);\n",
              "\n",
              "    outputElement.appendChild(li);\n",
              "\n",
              "    const fileDataPromise = new Promise((resolve) => {\n",
              "      const reader = new FileReader();\n",
              "      reader.onload = (e) => {\n",
              "        resolve(e.target.result);\n",
              "      };\n",
              "      reader.readAsArrayBuffer(file);\n",
              "    });\n",
              "    // Wait for the data to be ready.\n",
              "    let fileData = yield {\n",
              "      promise: fileDataPromise,\n",
              "      response: {\n",
              "        action: 'continue',\n",
              "      }\n",
              "    };\n",
              "\n",
              "    // Use a chunked sending to avoid message size limits. See b/62115660.\n",
              "    let position = 0;\n",
              "    do {\n",
              "      const length = Math.min(fileData.byteLength - position, MAX_PAYLOAD_SIZE);\n",
              "      const chunk = new Uint8Array(fileData, position, length);\n",
              "      position += length;\n",
              "\n",
              "      const base64 = btoa(String.fromCharCode.apply(null, chunk));\n",
              "      yield {\n",
              "        response: {\n",
              "          action: 'append',\n",
              "          file: file.name,\n",
              "          data: base64,\n",
              "        },\n",
              "      };\n",
              "\n",
              "      let percentDone = fileData.byteLength === 0 ?\n",
              "          100 :\n",
              "          Math.round((position / fileData.byteLength) * 100);\n",
              "      percent.textContent = `${percentDone}% done`;\n",
              "\n",
              "    } while (position < fileData.byteLength);\n",
              "  }\n",
              "\n",
              "  // All done.\n",
              "  yield {\n",
              "    response: {\n",
              "      action: 'complete',\n",
              "    }\n",
              "  };\n",
              "}\n",
              "\n",
              "scope.google = scope.google || {};\n",
              "scope.google.colab = scope.google.colab || {};\n",
              "scope.google.colab._files = {\n",
              "  _uploadFiles,\n",
              "  _uploadFilesContinue,\n",
              "};\n",
              "})(self);\n",
              "</script> "
            ]
          },
          "metadata": {}
        },
        {
          "output_type": "stream",
          "name": "stdout",
          "text": [
            "Saving student_scores.xlsx to student_scores (2).xlsx\n"
          ]
        }
      ]
    },
    {
      "cell_type": "code",
      "source": [
        "# Cell 2: Function to generate PDF report card for each student\n",
        "def generate_report_card(student_id, student_name, scores): # Defines a filename for the PDF using the student's ID.\n",
        "    pdf_filename = f\"report_card_{student_id}.pdf\"\n",
        "    pdf = SimpleDocTemplate(pdf_filename, pagesize=letter) # Creates a PDF document with the specified file name and page size.\n",
        "\n",
        "    #Loads default styles for text and initializes an empty list to hold content elements.\n",
        "    styles = getSampleStyleSheet()\n",
        "    elements = []\n",
        "\n",
        "    # Title (Adds a title with the student's name and spacing below it.)\n",
        "    title = Paragraph(f\"Report Card: {student_name}\", styles[\"Title\"])\n",
        "    elements.append(title)\n",
        "    elements.append(Spacer(1, 12))\n",
        "\n",
        "    # Total and average score (Computes the total and average scores from the student's scores.)\n",
        "    total_score = scores['Subject Score'].sum()\n",
        "    avg_score = scores['Subject Score'].mean()\n",
        "\n",
        "    # Displays total and average scores in the PDF\n",
        "    total_avg_paragraph = Paragraph(f\"<b>Total Score:</b> {total_score} <br/> <b>Average Score:</b> {avg_score:.2f}\", styles[\"Normal\"])\n",
        "    elements.append(total_avg_paragraph)\n",
        "    elements.append(Spacer(1, 12))\n",
        "\n",
        "    # Table for subject-wise scores (Creates a list to represent table data, starting with headers (Subject, Score), then adds rows for each subject and its score.)\n",
        "    table_data = [[\"Subject\", \"Score\"]]\n",
        "    for index, row in scores.iterrows():\n",
        "        table_data.append([row['Subject'], row['Subject Score']])\n",
        "\n",
        "    # Styles the table with colors, alignment, font, padding, and gridlines.\n",
        "    table = Table(table_data)\n",
        "    table.setStyle(TableStyle([\n",
        "        ('BACKGROUND', (0, 0), (-1, 0), colors.grey),\n",
        "        ('TEXTCOLOR', (0, 0), (-1, 0), colors.whitesmoke),\n",
        "        ('ALIGN', (0, 0), (-1, -1), 'CENTER'),\n",
        "        ('FONTNAME', (0, 0), (-1, 0), 'Helvetica-Bold'),\n",
        "        ('BOTTOMPADDING', (0, 0), (-1, 0), 12),\n",
        "        ('BACKGROUND', (0, 1), (-1, -1), colors.beige),\n",
        "        ('GRID', (0, 0), (-1, -1), 1, colors.black)\n",
        "    ]))\n",
        "\n",
        "    #Adds the table to the PDF content\n",
        "    elements.append(table)\n",
        "\n",
        "    # Build PDF (Generates the final PDF and prints a confirmation message)\n",
        "    pdf.build(elements)\n",
        "    print(f\"Generated {pdf_filename}\")\n",
        "\n",
        "    # Return the filename for download link creation\n",
        "    return pdf_filename"
      ],
      "metadata": {
        "id": "K50NqsXyfXhH"
      },
      "execution_count": 16,
      "outputs": []
    },
    {
      "cell_type": "code",
      "source": [
        "# Cell 3: Main function to process data and generate report cards\n",
        "# Loads the Excel file into a DataFrame.\n",
        "def main():\n",
        "    try:\n",
        "        # Read data from Excel\n",
        "        file_name = \"student_scores.xlsx\"\n",
        "        df = pd.read_excel(file_name)\n",
        "\n",
        "\n",
        "        # Validate data(Ensures that the necessary columns are present in the Excel file.)\n",
        "        if not {'Student ID', 'Name', 'Subject', 'Subject Score'}.issubset(df.columns):\n",
        "            raise ValueError(\"The Excel file must contain the columns: 'Student ID', 'Name', 'Subject', 'Subject Score'\")\n",
        "\n",
        "        # Handle missing or invalid data(Removes rows with missing data or invalid scores)\n",
        "        df.dropna(inplace=True)\n",
        "        df['Subject Score'] = pd.to_numeric(df['Subject Score'], errors='coerce')\n",
        "        df.dropna(subset=['Subject Score'], inplace=True)\n",
        "\n",
        "        # Group by student and generate report cards\n",
        "        #Groups the data by student,Generates a report card for each student,Displays a download link for the generated PDF.\n",
        "        grouped = df.groupby(['Student ID', 'Name'])\n",
        "\n",
        "        for (student_id, student_name), group in grouped:\n",
        "            pdf_filename = generate_report_card(student_id, student_name, group)\n",
        "\n",
        "            # Create a download link for each generated PDF\n",
        "            display(FileLink(pdf_filename))\n",
        "\n",
        "    # Handles file not found, validation, and general errors gracefully.\n",
        "    except FileNotFoundError:\n",
        "        print(f\"Error: File '{file_name}' not found.\")\n",
        "    except ValueError as e:\n",
        "        print(f\"Error: {e}\")\n",
        "    except Exception as e:\n",
        "        print(f\"An unexpected error occurred: {e}\")"
      ],
      "metadata": {
        "id": "ap2bsn8Yfc7r"
      },
      "execution_count": 19,
      "outputs": []
    },
    {
      "cell_type": "code",
      "source": [
        "# Cell 4: Run the main function(Executes the main function to start the report generation process)\n",
        "if __name__ == \"__main__\":\n",
        "    main()\n"
      ],
      "metadata": {
        "colab": {
          "base_uri": "https://localhost:8080/",
          "height": 372
        },
        "id": "DXUMUZzvfqol",
        "outputId": "20a41789-b36c-42d8-8fef-c593c8aba6d0"
      },
      "execution_count": 20,
      "outputs": [
        {
          "output_type": "stream",
          "name": "stdout",
          "text": [
            "Generated report_card_1.pdf\n"
          ]
        },
        {
          "output_type": "display_data",
          "data": {
            "text/plain": [
              "/content/report_card_1.pdf"
            ],
            "text/html": [
              "<a href='report_card_1.pdf' target='_blank'>report_card_1.pdf</a><br>"
            ]
          },
          "metadata": {}
        },
        {
          "output_type": "stream",
          "name": "stdout",
          "text": [
            "Generated report_card_2.pdf\n"
          ]
        },
        {
          "output_type": "display_data",
          "data": {
            "text/plain": [
              "/content/report_card_2.pdf"
            ],
            "text/html": [
              "<a href='report_card_2.pdf' target='_blank'>report_card_2.pdf</a><br>"
            ]
          },
          "metadata": {}
        },
        {
          "output_type": "stream",
          "name": "stdout",
          "text": [
            "Generated report_card_3.pdf\n"
          ]
        },
        {
          "output_type": "display_data",
          "data": {
            "text/plain": [
              "/content/report_card_3.pdf"
            ],
            "text/html": [
              "<a href='report_card_3.pdf' target='_blank'>report_card_3.pdf</a><br>"
            ]
          },
          "metadata": {}
        },
        {
          "output_type": "stream",
          "name": "stdout",
          "text": [
            "Generated report_card_4.pdf\n"
          ]
        },
        {
          "output_type": "display_data",
          "data": {
            "text/plain": [
              "/content/report_card_4.pdf"
            ],
            "text/html": [
              "<a href='report_card_4.pdf' target='_blank'>report_card_4.pdf</a><br>"
            ]
          },
          "metadata": {}
        },
        {
          "output_type": "stream",
          "name": "stdout",
          "text": [
            "Generated report_card_5.pdf\n"
          ]
        },
        {
          "output_type": "display_data",
          "data": {
            "text/plain": [
              "/content/report_card_5.pdf"
            ],
            "text/html": [
              "<a href='report_card_5.pdf' target='_blank'>report_card_5.pdf</a><br>"
            ]
          },
          "metadata": {}
        },
        {
          "output_type": "stream",
          "name": "stdout",
          "text": [
            "Generated report_card_6.pdf\n"
          ]
        },
        {
          "output_type": "display_data",
          "data": {
            "text/plain": [
              "/content/report_card_6.pdf"
            ],
            "text/html": [
              "<a href='report_card_6.pdf' target='_blank'>report_card_6.pdf</a><br>"
            ]
          },
          "metadata": {}
        },
        {
          "output_type": "stream",
          "name": "stdout",
          "text": [
            "Generated report_card_7.pdf\n"
          ]
        },
        {
          "output_type": "display_data",
          "data": {
            "text/plain": [
              "/content/report_card_7.pdf"
            ],
            "text/html": [
              "<a href='report_card_7.pdf' target='_blank'>report_card_7.pdf</a><br>"
            ]
          },
          "metadata": {}
        },
        {
          "output_type": "stream",
          "name": "stdout",
          "text": [
            "Generated report_card_8.pdf\n"
          ]
        },
        {
          "output_type": "display_data",
          "data": {
            "text/plain": [
              "/content/report_card_8.pdf"
            ],
            "text/html": [
              "<a href='report_card_8.pdf' target='_blank'>report_card_8.pdf</a><br>"
            ]
          },
          "metadata": {}
        },
        {
          "output_type": "stream",
          "name": "stdout",
          "text": [
            "Generated report_card_9.pdf\n"
          ]
        },
        {
          "output_type": "display_data",
          "data": {
            "text/plain": [
              "/content/report_card_9.pdf"
            ],
            "text/html": [
              "<a href='report_card_9.pdf' target='_blank'>report_card_9.pdf</a><br>"
            ]
          },
          "metadata": {}
        },
        {
          "output_type": "stream",
          "name": "stdout",
          "text": [
            "Generated report_card_10.pdf\n"
          ]
        },
        {
          "output_type": "display_data",
          "data": {
            "text/plain": [
              "/content/report_card_10.pdf"
            ],
            "text/html": [
              "<a href='report_card_10.pdf' target='_blank'>report_card_10.pdf</a><br>"
            ]
          },
          "metadata": {}
        }
      ]
    },
    {
      "cell_type": "code",
      "source": [],
      "metadata": {
        "id": "oiKMifJjft08"
      },
      "execution_count": 18,
      "outputs": []
    }
  ]
}